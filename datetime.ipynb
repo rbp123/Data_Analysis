{
 "cells": [
  {
   "cell_type": "code",
   "execution_count": 2,
   "metadata": {},
   "outputs": [],
   "source": [
    "from datetime import datetime\n"
   ]
  },
  {
   "cell_type": "code",
   "execution_count": 66,
   "metadata": {},
   "outputs": [
    {
     "data": {
      "text/plain": [
       "datetime.datetime(2019, 4, 2, 17, 20, 13, 624609)"
      ]
     },
     "execution_count": 66,
     "metadata": {},
     "output_type": "execute_result"
    }
   ],
   "source": [
    "now = datetime.now()\n",
    "# now.year\n",
    "# now.month\n",
    "# now.day\n",
    "# now.hour\n",
    "now"
   ]
  },
  {
   "cell_type": "code",
   "execution_count": 30,
   "metadata": {},
   "outputs": [
    {
     "data": {
      "text/plain": [
       "82190"
      ]
     },
     "execution_count": 30,
     "metadata": {},
     "output_type": "execute_result"
    }
   ],
   "source": [
    "datetime(2019,1,10) - datetime(2018,10,10,1,10,10)\n",
    "d.days\n",
    "d.seconds"
   ]
  },
  {
   "cell_type": "code",
   "execution_count": 31,
   "metadata": {},
   "outputs": [],
   "source": [
    "from datetime import timedelta"
   ]
  },
  {
   "cell_type": "code",
   "execution_count": 35,
   "metadata": {},
   "outputs": [
    {
     "data": {
      "text/plain": [
       "datetime.datetime(2017, 12, 24, 0, 0)"
      ]
     },
     "execution_count": 35,
     "metadata": {},
     "output_type": "execute_result"
    }
   ],
   "source": [
    "start = datetime(2017,12,10)\n",
    "start+timedelta(7)*2   #加到天数上"
   ]
  },
  {
   "cell_type": "markdown",
   "metadata": {},
   "source": [
    "# 字符串与日期胡转"
   ]
  },
  {
   "cell_type": "code",
   "execution_count": 40,
   "metadata": {},
   "outputs": [
    {
     "data": {
      "text/plain": [
       "'2018-07-05 00:00:00'"
      ]
     },
     "execution_count": 40,
     "metadata": {},
     "output_type": "execute_result"
    }
   ],
   "source": [
    "date = datetime(2018,7,5)\n",
    "sd = str(date) #转字符串"
   ]
  },
  {
   "cell_type": "code",
   "execution_count": 43,
   "metadata": {},
   "outputs": [
    {
     "data": {
      "text/plain": [
       "'2018-07-05'"
      ]
     },
     "execution_count": 43,
     "metadata": {},
     "output_type": "execute_result"
    }
   ],
   "source": [
    "date.strftime('%Y-%m-%d')    #转字符串"
   ]
  },
  {
   "cell_type": "code",
   "execution_count": 5,
   "metadata": {},
   "outputs": [
    {
     "ename": "NameError",
     "evalue": "name 'datetime' is not defined",
     "output_type": "error",
     "traceback": [
      "\u001b[1;31m---------------------------------------------------------------------------\u001b[0m",
      "\u001b[1;31mNameError\u001b[0m                                 Traceback (most recent call last)",
      "\u001b[1;32m<ipython-input-5-e8a2c47adf15>\u001b[0m in \u001b[0;36m<module>\u001b[1;34m\u001b[0m\n\u001b[0;32m      1\u001b[0m \u001b[0mv\u001b[0m \u001b[1;33m=\u001b[0m \u001b[1;34m'2011-05-09'\u001b[0m\u001b[1;33m\u001b[0m\u001b[1;33m\u001b[0m\u001b[0m\n\u001b[1;32m----> 2\u001b[1;33m \u001b[0mdatetime\u001b[0m\u001b[1;33m.\u001b[0m\u001b[0mstrptime\u001b[0m\u001b[1;33m(\u001b[0m\u001b[0mv\u001b[0m\u001b[1;33m,\u001b[0m\u001b[1;34m'%Y-%m-%d'\u001b[0m\u001b[1;33m)\u001b[0m  \u001b[1;31m#字符串转时间 格式必须\u001b[0m\u001b[1;33m\u001b[0m\u001b[1;33m\u001b[0m\u001b[0m\n\u001b[0m\u001b[0;32m      3\u001b[0m \u001b[0mv1\u001b[0m \u001b[1;33m=\u001b[0m \u001b[1;33m[\u001b[0m\u001b[1;34m'7/4/2012'\u001b[0m\u001b[1;33m,\u001b[0m\u001b[1;34m'8/6/2018'\u001b[0m\u001b[1;33m]\u001b[0m\u001b[1;33m\u001b[0m\u001b[1;33m\u001b[0m\u001b[0m\n\u001b[0;32m      4\u001b[0m \u001b[1;33m[\u001b[0m\u001b[0mdatetime\u001b[0m\u001b[1;33m.\u001b[0m\u001b[0mstrptime\u001b[0m\u001b[1;33m(\u001b[0m\u001b[0mx\u001b[0m\u001b[1;33m,\u001b[0m\u001b[1;34m'%m/%d/%Y'\u001b[0m\u001b[1;33m)\u001b[0m \u001b[1;32mfor\u001b[0m \u001b[0mx\u001b[0m \u001b[1;32min\u001b[0m \u001b[0mv1\u001b[0m\u001b[1;33m]\u001b[0m  \u001b[1;31m#注意格式的不同\u001b[0m\u001b[1;33m\u001b[0m\u001b[1;33m\u001b[0m\u001b[0m\n\u001b[0;32m      5\u001b[0m \u001b[1;32mfrom\u001b[0m \u001b[0mdateutil\u001b[0m\u001b[1;33m.\u001b[0m\u001b[0mparser\u001b[0m \u001b[1;32mimport\u001b[0m \u001b[0mparse\u001b[0m \u001b[1;31m#zhuan日期 导入包\u001b[0m\u001b[1;33m\u001b[0m\u001b[1;33m\u001b[0m\u001b[0m\n",
      "\u001b[1;31mNameError\u001b[0m: name 'datetime' is not defined"
     ]
    }
   ],
   "source": [
    "v = '2011-05-09'\n",
    "datetime.strptime(v,'%Y-%m-%d')  #字符串转时间 格式必须\n",
    "v1 = ['7/4/2012','8/6/2018']\n",
    "[datetime.strptime(x,'%m/%d/%Y') for x in v1]  #注意格式的不同\n",
    "from dateutil.parser import parse #zhuan日期 导入包\n",
    "parse(v)\n",
    "parse('6/7/2019',dayfirst=True)   #\n",
    "\n",
    "import pandas as pd \n",
    "v = ['2018-4-5 11:23:08','2019-2-4 9:30:00']  \n",
    "v1 = pd.to_datetime(v + ['NaN']) #类型为DatetimeIndex 注意 加NAN为 空时间\n",
    "v1.isnull()\n"
   ]
  },
  {
   "cell_type": "code",
   "execution_count": 6,
   "metadata": {},
   "outputs": [
    {
     "ename": "NameError",
     "evalue": "name 'pd' is not defined",
     "output_type": "error",
     "traceback": [
      "\u001b[1;31m---------------------------------------------------------------------------\u001b[0m",
      "\u001b[1;31mNameError\u001b[0m                                 Traceback (most recent call last)",
      "\u001b[1;32m<ipython-input-6-b9ebc8921fa0>\u001b[0m in \u001b[0;36m<module>\u001b[1;34m\u001b[0m\n\u001b[0;32m      1\u001b[0m \u001b[1;32mimport\u001b[0m \u001b[0mnumpy\u001b[0m \u001b[1;32mas\u001b[0m \u001b[0mnp\u001b[0m\u001b[1;33m\u001b[0m\u001b[1;33m\u001b[0m\u001b[0m\n\u001b[1;32m----> 2\u001b[1;33m \u001b[0mts\u001b[0m \u001b[1;33m=\u001b[0m \u001b[0mpd\u001b[0m\u001b[1;33m.\u001b[0m\u001b[0mSeries\u001b[0m\u001b[1;33m(\u001b[0m\u001b[0mnp\u001b[0m\u001b[1;33m.\u001b[0m\u001b[0mrandom\u001b[0m\u001b[1;33m.\u001b[0m\u001b[0mrandn\u001b[0m\u001b[1;33m(\u001b[0m\u001b[1;36m1000\u001b[0m\u001b[1;33m)\u001b[0m\u001b[1;33m,\u001b[0m\u001b[0mindex\u001b[0m \u001b[1;33m=\u001b[0m \u001b[0mpd\u001b[0m\u001b[1;33m.\u001b[0m\u001b[0mdate_range\u001b[0m\u001b[1;33m(\u001b[0m\u001b[1;34m'1/1/2000'\u001b[0m\u001b[1;33m,\u001b[0m\u001b[0mperiods\u001b[0m \u001b[1;33m=\u001b[0m \u001b[1;36m1000\u001b[0m\u001b[1;33m)\u001b[0m\u001b[1;33m)\u001b[0m\u001b[1;33m\u001b[0m\u001b[1;33m\u001b[0m\u001b[0m\n\u001b[0m\u001b[0;32m      3\u001b[0m \u001b[0mts\u001b[0m\u001b[1;33m[\u001b[0m\u001b[1;34m'5/2001'\u001b[0m\u001b[1;33m]\u001b[0m  \u001b[1;31m#quzhi\u001b[0m\u001b[1;33m\u001b[0m\u001b[1;33m\u001b[0m\u001b[0m\n\u001b[0;32m      4\u001b[0m \u001b[0mts\u001b[0m\u001b[1;33m[\u001b[0m\u001b[1;34m'1/7/2002'\u001b[0m\u001b[1;33m:\u001b[0m\u001b[1;33m]\u001b[0m  \u001b[1;31m#qie片\u001b[0m\u001b[1;33m\u001b[0m\u001b[1;33m\u001b[0m\u001b[0m\n\u001b[0;32m      5\u001b[0m \u001b[0mts\u001b[0m\u001b[1;33m[\u001b[0m\u001b[1;34m'1/7/2002'\u001b[0m\u001b[1;33m:\u001b[0m\u001b[1;34m'8/9/2002'\u001b[0m\u001b[1;33m]\u001b[0m\u001b[1;33m\u001b[0m\u001b[1;33m\u001b[0m\u001b[0m\n",
      "\u001b[1;31mNameError\u001b[0m: name 'pd' is not defined"
     ]
    }
   ],
   "source": [
    "import numpy as np\n",
    "ts = pd.Series(np.random.randn(1000),index = pd.date_range('1/1/2000',periods = 1000))\n",
    "ts['5/2001']  #quzhi\n",
    "ts['1/7/2002':]  #qie片\n",
    "ts['1/7/2002':'8/9/2002']\n",
    "\n",
    "ts.truncate(after='1/7/2002')  #函数区指定日期之前的数据\n",
    "\n",
    "#有重复时间索引\n",
    "dates = pd.DatetimeIndex(['1/1/2000','1/2/2000','1/2/2000','1/3/2000'])\n",
    "ts1 = pd.Series(np.random.randn(4),index=dates)\n",
    "\n",
    "ts1.index.is_unique  #注意\n",
    "ts1['1/1/2000']  #取值\n",
    "\n",
    "ts1['1/2/2000']  #注意是切片\n",
    "print(ts1.groupby(ts1.index).sum())  #分组\n",
    "ts1.groupby(level=0).count()"
   ]
  },
  {
   "cell_type": "code",
   "execution_count": 8,
   "metadata": {},
   "outputs": [
    {
     "data": {
      "text/plain": [
       "DatetimeIndex(['2012-02-03 00:00:00', '2012-02-03 04:00:00',\n",
       "               '2012-02-03 08:00:00', '2012-02-03 12:00:00',\n",
       "               '2012-02-03 16:00:00', '2012-02-03 20:00:00',\n",
       "               '2012-02-04 00:00:00', '2012-02-04 04:00:00',\n",
       "               '2012-02-04 08:00:00', '2012-02-04 12:00:00',\n",
       "               ...\n",
       "               '2012-10-01 12:00:00', '2012-10-01 16:00:00',\n",
       "               '2012-10-01 20:00:00', '2012-10-02 00:00:00',\n",
       "               '2012-10-02 04:00:00', '2012-10-02 08:00:00',\n",
       "               '2012-10-02 12:00:00', '2012-10-02 16:00:00',\n",
       "               '2012-10-02 20:00:00', '2012-10-03 00:00:00'],\n",
       "              dtype='datetime64[ns]', length=1459, freq='4H')"
      ]
     },
     "execution_count": 8,
     "metadata": {},
     "output_type": "execute_result"
    }
   ],
   "source": [
    "import pandas as pd \n",
    "pd.date_range('2012-2-3','2012-10-3',freq='4h')  #BM表示每个月最后一天"
   ]
  },
  {
   "cell_type": "code",
   "execution_count": 33,
   "metadata": {},
   "outputs": [
    {
     "name": "stdout",
     "output_type": "stream",
     "text": [
      "2017-05-01   -0.957733\n",
      "2017-05-02   -1.178535\n",
      "2017-05-03    2.338983\n",
      "2017-05-04    1.401447\n",
      "Freq: D, dtype: float64\n"
     ]
    },
    {
     "data": {
      "text/plain": [
       "2017-05-03   -0.957733\n",
       "2017-05-04   -1.178535\n",
       "2017-05-05    2.338983\n",
       "2017-05-06    1.401447\n",
       "Freq: D, dtype: float64"
      ]
     },
     "execution_count": 33,
     "metadata": {},
     "output_type": "execute_result"
    }
   ],
   "source": [
    "from datetime import datetime\n",
    "import pandas as pd \n",
    "st = pd.Series(np.random.randn(4),index=pd.date_range('2017-5-1',periods=4))\n",
    "print(st)\n",
    "st.shift(2)  #最上面两个移动\n",
    "st.shift(-2)  #左后连个移动\n",
    "st.shift(2,freq='D')   #移动了月份\n"
   ]
  },
  {
   "cell_type": "markdown",
   "metadata": {},
   "source": [
    "#   重采样"
   ]
  },
  {
   "cell_type": "code",
   "execution_count": 40,
   "metadata": {},
   "outputs": [
    {
     "name": "stdout",
     "output_type": "stream",
     "text": [
      "                    0\n",
      "2017-01-01  48.298358\n",
      "2017-01-02  38.764460\n",
      "2017-01-03  31.749397\n",
      "2017-01-04  43.306726\n",
      "2017-01-05  23.837047\n",
      "2017-01-06  42.112832\n",
      "2017-01-07  33.125812\n",
      "2017-01-08  39.162218\n",
      "2017-01-09  46.280484\n",
      "2017-01-10  33.265932\n",
      "2017-01-11  36.491953\n",
      "2017-01-12  41.660790\n",
      "2017-01-13  35.361203\n",
      "2017-01-14  31.108620\n",
      "2017-01-15  36.819261\n",
      "2017-01-16  33.011732\n",
      "2017-01-17  26.332719\n",
      "2017-01-18  41.444342\n",
      "2017-01-19  43.505013\n",
      "2017-01-20  49.981655\n",
      "2017-01-21  33.942655\n",
      "2017-01-22  15.130951\n",
      "2017-01-23  33.161514\n",
      "2017-01-24  48.553178\n",
      "2017-01-25  34.951383\n",
      "2017-01-26  17.025320\n",
      "2017-01-27  15.201328\n",
      "2017-01-28  37.040245\n",
      "2017-01-29  14.692073\n",
      "2017-01-30  20.033662\n",
      "...               ...\n",
      "2017-03-12  13.059132\n",
      "2017-03-13  26.811704\n",
      "2017-03-14  10.635062\n",
      "2017-03-15  31.245087\n",
      "2017-03-16  44.182544\n",
      "2017-03-17  15.582200\n",
      "2017-03-18  42.183177\n",
      "2017-03-19  36.402360\n",
      "2017-03-20  42.455983\n",
      "2017-03-21  24.114270\n",
      "2017-03-22  41.033188\n",
      "2017-03-23  24.601550\n",
      "2017-03-24  17.982547\n",
      "2017-03-25  41.776431\n",
      "2017-03-26  14.933856\n",
      "2017-03-27  35.838871\n",
      "2017-03-28  42.483858\n",
      "2017-03-29  43.955462\n",
      "2017-03-30  26.452321\n",
      "2017-03-31  38.346336\n",
      "2017-04-01  43.837244\n",
      "2017-04-02  29.939656\n",
      "2017-04-03  31.927751\n",
      "2017-04-04  14.027029\n",
      "2017-04-05  48.976799\n",
      "2017-04-06  49.633965\n",
      "2017-04-07  22.156439\n",
      "2017-04-08  38.038730\n",
      "2017-04-09  17.313003\n",
      "2017-04-10  37.989693\n",
      "\n",
      "[100 rows x 1 columns]\n"
     ]
    },
    {
     "data": {
      "text/html": [
       "<div>\n",
       "<style scoped>\n",
       "    .dataframe tbody tr th:only-of-type {\n",
       "        vertical-align: middle;\n",
       "    }\n",
       "\n",
       "    .dataframe tbody tr th {\n",
       "        vertical-align: top;\n",
       "    }\n",
       "\n",
       "    .dataframe thead th {\n",
       "        text-align: right;\n",
       "    }\n",
       "</style>\n",
       "<table border=\"1\" class=\"dataframe\">\n",
       "  <thead>\n",
       "    <tr style=\"text-align: right;\">\n",
       "      <th></th>\n",
       "      <th>0</th>\n",
       "    </tr>\n",
       "  </thead>\n",
       "  <tbody>\n",
       "    <tr>\n",
       "      <th>2017-01-01</th>\n",
       "      <td>10</td>\n",
       "    </tr>\n",
       "    <tr>\n",
       "      <th>2017-01-11</th>\n",
       "      <td>10</td>\n",
       "    </tr>\n",
       "    <tr>\n",
       "      <th>2017-01-21</th>\n",
       "      <td>10</td>\n",
       "    </tr>\n",
       "    <tr>\n",
       "      <th>2017-01-31</th>\n",
       "      <td>10</td>\n",
       "    </tr>\n",
       "    <tr>\n",
       "      <th>2017-02-10</th>\n",
       "      <td>10</td>\n",
       "    </tr>\n",
       "    <tr>\n",
       "      <th>2017-02-20</th>\n",
       "      <td>10</td>\n",
       "    </tr>\n",
       "    <tr>\n",
       "      <th>2017-03-02</th>\n",
       "      <td>10</td>\n",
       "    </tr>\n",
       "    <tr>\n",
       "      <th>2017-03-12</th>\n",
       "      <td>10</td>\n",
       "    </tr>\n",
       "    <tr>\n",
       "      <th>2017-03-22</th>\n",
       "      <td>10</td>\n",
       "    </tr>\n",
       "    <tr>\n",
       "      <th>2017-04-01</th>\n",
       "      <td>10</td>\n",
       "    </tr>\n",
       "  </tbody>\n",
       "</table>\n",
       "</div>"
      ],
      "text/plain": [
       "             0\n",
       "2017-01-01  10\n",
       "2017-01-11  10\n",
       "2017-01-21  10\n",
       "2017-01-31  10\n",
       "2017-02-10  10\n",
       "2017-02-20  10\n",
       "2017-03-02  10\n",
       "2017-03-12  10\n",
       "2017-03-22  10\n",
       "2017-04-01  10"
      ]
     },
     "execution_count": 40,
     "metadata": {},
     "output_type": "execute_result"
    }
   ],
   "source": [
    "t = pd.DataFrame(np.random.uniform(10,50,(100,1)),index=pd.date_range('2017-1-1',periods=100))\n",
    "print(t)\n",
    "t.resample('10D').count()"
   ]
  },
  {
   "cell_type": "code",
   "execution_count": 47,
   "metadata": {},
   "outputs": [
    {
     "data": {
      "text/html": [
       "<div>\n",
       "<style scoped>\n",
       "    .dataframe tbody tr th:only-of-type {\n",
       "        vertical-align: middle;\n",
       "    }\n",
       "\n",
       "    .dataframe tbody tr th {\n",
       "        vertical-align: top;\n",
       "    }\n",
       "\n",
       "    .dataframe thead th {\n",
       "        text-align: right;\n",
       "    }\n",
       "</style>\n",
       "<table border=\"1\" class=\"dataframe\">\n",
       "  <thead>\n",
       "    <tr style=\"text-align: right;\">\n",
       "      <th></th>\n",
       "      <th>上海</th>\n",
       "      <th>北京</th>\n",
       "      <th>广州</th>\n",
       "      <th>兰州</th>\n",
       "    </tr>\n",
       "  </thead>\n",
       "  <tbody>\n",
       "    <tr>\n",
       "      <th>2014-01-01</th>\n",
       "      <td>0.746236</td>\n",
       "      <td>1.423477</td>\n",
       "      <td>0.291097</td>\n",
       "      <td>-2.356333</td>\n",
       "    </tr>\n",
       "    <tr>\n",
       "      <th>2014-01-08</th>\n",
       "      <td>-0.049008</td>\n",
       "      <td>0.873418</td>\n",
       "      <td>2.400390</td>\n",
       "      <td>1.460267</td>\n",
       "    </tr>\n",
       "  </tbody>\n",
       "</table>\n",
       "</div>"
      ],
      "text/plain": [
       "                  上海        北京        广州        兰州\n",
       "2014-01-01  0.746236  1.423477  0.291097 -2.356333\n",
       "2014-01-08 -0.049008  0.873418  2.400390  1.460267"
      ]
     },
     "execution_count": 47,
     "metadata": {},
     "output_type": "execute_result"
    }
   ],
   "source": [
    "import pandas as pd\n",
    "s = pd.DataFrame(np.random.randn(2,4),index=pd.date_range('2014-1-1',periods=2,freq='W-WED'),columns=['上海','北京','广州','兰州'])\n",
    "s"
   ]
  },
  {
   "cell_type": "code",
   "execution_count": 51,
   "metadata": {},
   "outputs": [
    {
     "data": {
      "text/html": [
       "<div>\n",
       "<style scoped>\n",
       "    .dataframe tbody tr th:only-of-type {\n",
       "        vertical-align: middle;\n",
       "    }\n",
       "\n",
       "    .dataframe tbody tr th {\n",
       "        vertical-align: top;\n",
       "    }\n",
       "\n",
       "    .dataframe thead th {\n",
       "        text-align: right;\n",
       "    }\n",
       "</style>\n",
       "<table border=\"1\" class=\"dataframe\">\n",
       "  <thead>\n",
       "    <tr style=\"text-align: right;\">\n",
       "      <th></th>\n",
       "      <th>上海</th>\n",
       "      <th>北京</th>\n",
       "      <th>广州</th>\n",
       "      <th>兰州</th>\n",
       "    </tr>\n",
       "  </thead>\n",
       "  <tbody>\n",
       "    <tr>\n",
       "      <th>2014-01-01</th>\n",
       "      <td>0.746236</td>\n",
       "      <td>1.423477</td>\n",
       "      <td>0.291097</td>\n",
       "      <td>-2.356333</td>\n",
       "    </tr>\n",
       "    <tr>\n",
       "      <th>2014-01-02</th>\n",
       "      <td>NaN</td>\n",
       "      <td>NaN</td>\n",
       "      <td>NaN</td>\n",
       "      <td>NaN</td>\n",
       "    </tr>\n",
       "    <tr>\n",
       "      <th>2014-01-03</th>\n",
       "      <td>NaN</td>\n",
       "      <td>NaN</td>\n",
       "      <td>NaN</td>\n",
       "      <td>NaN</td>\n",
       "    </tr>\n",
       "    <tr>\n",
       "      <th>2014-01-04</th>\n",
       "      <td>NaN</td>\n",
       "      <td>NaN</td>\n",
       "      <td>NaN</td>\n",
       "      <td>NaN</td>\n",
       "    </tr>\n",
       "    <tr>\n",
       "      <th>2014-01-05</th>\n",
       "      <td>NaN</td>\n",
       "      <td>NaN</td>\n",
       "      <td>NaN</td>\n",
       "      <td>NaN</td>\n",
       "    </tr>\n",
       "    <tr>\n",
       "      <th>2014-01-06</th>\n",
       "      <td>NaN</td>\n",
       "      <td>NaN</td>\n",
       "      <td>NaN</td>\n",
       "      <td>NaN</td>\n",
       "    </tr>\n",
       "    <tr>\n",
       "      <th>2014-01-07</th>\n",
       "      <td>NaN</td>\n",
       "      <td>NaN</td>\n",
       "      <td>NaN</td>\n",
       "      <td>NaN</td>\n",
       "    </tr>\n",
       "    <tr>\n",
       "      <th>2014-01-08</th>\n",
       "      <td>-0.049008</td>\n",
       "      <td>0.873418</td>\n",
       "      <td>2.400390</td>\n",
       "      <td>1.460267</td>\n",
       "    </tr>\n",
       "  </tbody>\n",
       "</table>\n",
       "</div>"
      ],
      "text/plain": [
       "                  上海        北京        广州        兰州\n",
       "2014-01-01  0.746236  1.423477  0.291097 -2.356333\n",
       "2014-01-02       NaN       NaN       NaN       NaN\n",
       "2014-01-03       NaN       NaN       NaN       NaN\n",
       "2014-01-04       NaN       NaN       NaN       NaN\n",
       "2014-01-05       NaN       NaN       NaN       NaN\n",
       "2014-01-06       NaN       NaN       NaN       NaN\n",
       "2014-01-07       NaN       NaN       NaN       NaN\n",
       "2014-01-08 -0.049008  0.873418  2.400390  1.460267"
      ]
     },
     "execution_count": 51,
     "metadata": {},
     "output_type": "execute_result"
    }
   ],
   "source": [
    "s.resample('D').asfreq()  #转换成高频率"
   ]
  },
  {
   "cell_type": "code",
   "execution_count": 1,
   "metadata": {},
   "outputs": [
    {
     "ename": "NameError",
     "evalue": "name 's' is not defined",
     "output_type": "error",
     "traceback": [
      "\u001b[1;31m---------------------------------------------------------------------------\u001b[0m",
      "\u001b[1;31mNameError\u001b[0m                                 Traceback (most recent call last)",
      "\u001b[1;32m<ipython-input-1-9f25d5e14868>\u001b[0m in \u001b[0;36m<module>\u001b[1;34m\u001b[0m\n\u001b[1;32m----> 1\u001b[1;33m \u001b[0ms\u001b[0m\u001b[1;33m.\u001b[0m\u001b[0mresample\u001b[0m\u001b[1;33m(\u001b[0m\u001b[1;34m'D'\u001b[0m\u001b[1;33m)\u001b[0m\u001b[1;33m.\u001b[0m\u001b[0mffill\u001b[0m\u001b[1;33m(\u001b[0m\u001b[0mlimit\u001b[0m\u001b[1;33m=\u001b[0m\u001b[1;36m2\u001b[0m\u001b[1;33m)\u001b[0m  \u001b[1;31m#用第一行填充每一行\u001b[0m\u001b[1;33m\u001b[0m\u001b[1;33m\u001b[0m\u001b[0m\n\u001b[0m",
      "\u001b[1;31mNameError\u001b[0m: name 's' is not defined"
     ]
    }
   ],
   "source": [
    "s.resample('D').ffill(limit=2)  #用第一行填充每一行"
   ]
  },
  {
   "cell_type": "code",
   "execution_count": 16,
   "metadata": {},
   "outputs": [],
   "source": [
    "from datetime import datetime\n",
    "import pandas as pd\n",
    "\n"
   ]
  },
  {
   "cell_type": "code",
   "execution_count": null,
   "metadata": {},
   "outputs": [],
   "source": []
  }
 ],
 "metadata": {
  "kernelspec": {
   "display_name": "Python 3",
   "language": "python",
   "name": "python3"
  },
  "language_info": {
   "codemirror_mode": {
    "name": "ipython",
    "version": 3
   },
   "file_extension": ".py",
   "mimetype": "text/x-python",
   "name": "python",
   "nbconvert_exporter": "python",
   "pygments_lexer": "ipython3",
   "version": "3.6.8"
  }
 },
 "nbformat": 4,
 "nbformat_minor": 2
}
